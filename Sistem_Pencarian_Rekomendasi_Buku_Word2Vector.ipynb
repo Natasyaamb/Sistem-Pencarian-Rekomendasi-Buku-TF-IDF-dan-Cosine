{
  "nbformat": 4,
  "nbformat_minor": 0,
  "metadata": {
    "colab": {
      "provenance": [],
      "include_colab_link": true
    },
    "kernelspec": {
      "name": "python3",
      "display_name": "Python 3"
    },
    "language_info": {
      "name": "python"
    },
    "widgets": {
      "application/vnd.jupyter.widget-state+json": {
        "ddea66c3cbbe44a899516d360e904d90": {
          "model_module": "@jupyter-widgets/controls",
          "model_name": "TextareaModel",
          "model_module_version": "1.5.0",
          "state": {
            "_dom_classes": [],
            "_model_module": "@jupyter-widgets/controls",
            "_model_module_version": "1.5.0",
            "_model_name": "TextareaModel",
            "_view_count": null,
            "_view_module": "@jupyter-widgets/controls",
            "_view_module_version": "1.5.0",
            "_view_name": "TextareaView",
            "continuous_update": true,
            "description": "Summary:",
            "description_tooltip": null,
            "disabled": false,
            "layout": "IPY_MODEL_44528d12ea864ec6ad4ac66cc06dc682",
            "placeholder": "Masukkan sinopsis buku di sini...",
            "rows": null,
            "style": "IPY_MODEL_0a078f85997944ffa239b5f107b75099",
            "value": "world at war"
          }
        },
        "44528d12ea864ec6ad4ac66cc06dc682": {
          "model_module": "@jupyter-widgets/base",
          "model_name": "LayoutModel",
          "model_module_version": "1.2.0",
          "state": {
            "_model_module": "@jupyter-widgets/base",
            "_model_module_version": "1.2.0",
            "_model_name": "LayoutModel",
            "_view_count": null,
            "_view_module": "@jupyter-widgets/base",
            "_view_module_version": "1.2.0",
            "_view_name": "LayoutView",
            "align_content": null,
            "align_items": null,
            "align_self": null,
            "border": null,
            "bottom": null,
            "display": null,
            "flex": null,
            "flex_flow": null,
            "grid_area": null,
            "grid_auto_columns": null,
            "grid_auto_flow": null,
            "grid_auto_rows": null,
            "grid_column": null,
            "grid_gap": null,
            "grid_row": null,
            "grid_template_areas": null,
            "grid_template_columns": null,
            "grid_template_rows": null,
            "height": "100px",
            "justify_content": null,
            "justify_items": null,
            "left": null,
            "margin": null,
            "max_height": null,
            "max_width": null,
            "min_height": null,
            "min_width": null,
            "object_fit": null,
            "object_position": null,
            "order": null,
            "overflow": null,
            "overflow_x": null,
            "overflow_y": null,
            "padding": null,
            "right": null,
            "top": null,
            "visibility": null,
            "width": "50%"
          }
        },
        "0a078f85997944ffa239b5f107b75099": {
          "model_module": "@jupyter-widgets/controls",
          "model_name": "DescriptionStyleModel",
          "model_module_version": "1.5.0",
          "state": {
            "_model_module": "@jupyter-widgets/controls",
            "_model_module_version": "1.5.0",
            "_model_name": "DescriptionStyleModel",
            "_view_count": null,
            "_view_module": "@jupyter-widgets/base",
            "_view_module_version": "1.2.0",
            "_view_name": "StyleView",
            "description_width": ""
          }
        },
        "099732fbbca54d998a3f7529d32dc97d": {
          "model_module": "@jupyter-widgets/controls",
          "model_name": "ButtonModel",
          "model_module_version": "1.5.0",
          "state": {
            "_dom_classes": [],
            "_model_module": "@jupyter-widgets/controls",
            "_model_module_version": "1.5.0",
            "_model_name": "ButtonModel",
            "_view_count": null,
            "_view_module": "@jupyter-widgets/controls",
            "_view_module_version": "1.5.0",
            "_view_name": "ButtonView",
            "button_style": "",
            "description": "Get Recommendations",
            "disabled": false,
            "icon": "",
            "layout": "IPY_MODEL_6425f42abe6249259bd8e96c467094e1",
            "style": "IPY_MODEL_20c81922467f439b8718a7156de867b6",
            "tooltip": ""
          }
        },
        "6425f42abe6249259bd8e96c467094e1": {
          "model_module": "@jupyter-widgets/base",
          "model_name": "LayoutModel",
          "model_module_version": "1.2.0",
          "state": {
            "_model_module": "@jupyter-widgets/base",
            "_model_module_version": "1.2.0",
            "_model_name": "LayoutModel",
            "_view_count": null,
            "_view_module": "@jupyter-widgets/base",
            "_view_module_version": "1.2.0",
            "_view_name": "LayoutView",
            "align_content": null,
            "align_items": null,
            "align_self": null,
            "border": null,
            "bottom": null,
            "display": null,
            "flex": null,
            "flex_flow": null,
            "grid_area": null,
            "grid_auto_columns": null,
            "grid_auto_flow": null,
            "grid_auto_rows": null,
            "grid_column": null,
            "grid_gap": null,
            "grid_row": null,
            "grid_template_areas": null,
            "grid_template_columns": null,
            "grid_template_rows": null,
            "height": null,
            "justify_content": null,
            "justify_items": null,
            "left": null,
            "margin": null,
            "max_height": null,
            "max_width": null,
            "min_height": null,
            "min_width": null,
            "object_fit": null,
            "object_position": null,
            "order": null,
            "overflow": null,
            "overflow_x": null,
            "overflow_y": null,
            "padding": null,
            "right": null,
            "top": null,
            "visibility": null,
            "width": null
          }
        },
        "20c81922467f439b8718a7156de867b6": {
          "model_module": "@jupyter-widgets/controls",
          "model_name": "ButtonStyleModel",
          "model_module_version": "1.5.0",
          "state": {
            "_model_module": "@jupyter-widgets/controls",
            "_model_module_version": "1.5.0",
            "_model_name": "ButtonStyleModel",
            "_view_count": null,
            "_view_module": "@jupyter-widgets/base",
            "_view_module_version": "1.2.0",
            "_view_name": "StyleView",
            "button_color": null,
            "font_weight": ""
          }
        }
      }
    }
  },
  "cells": [
    {
      "cell_type": "markdown",
      "metadata": {
        "id": "view-in-github",
        "colab_type": "text"
      },
      "source": [
        "<a href=\"https://colab.research.google.com/github/Natasyaamb/Sistem-Pencarian-Rekomendasi-Buku-TF-IDF-dan-Cosine/blob/main/Sistem_Pencarian_Rekomendasi_Buku_Word2Vector.ipynb\" target=\"_parent\"><img src=\"https://colab.research.google.com/assets/colab-badge.svg\" alt=\"Open In Colab\"/></a>"
      ]
    },
    {
      "cell_type": "code",
      "execution_count": null,
      "metadata": {
        "id": "vihKsMJtrWxb"
      },
      "outputs": [],
      "source": [
        "import gensim\n",
        "from gensim.models import Word2Vec\n",
        "import nltk\n",
        "from nltk.tokenize import word_tokenize\n",
        "from nltk.corpus import stopwords\n",
        "from nltk.stem import WordNetLemmatizer\n",
        "from sklearn.metrics.pairwise import cosine_similarity\n",
        "import string\n",
        "import numpy as np\n",
        "import pandas as pd\n",
        "import re\n",
        "import ipywidgets as widgets\n",
        "from IPython.display import display"
      ]
    },
    {
      "cell_type": "code",
      "source": [
        "import nltk\n",
        "nltk.download('punkt')\n",
        "nltk.download('stopwords')\n",
        "nltk.download('wordnet')"
      ],
      "metadata": {
        "colab": {
          "base_uri": "https://localhost:8080/"
        },
        "collapsed": true,
        "id": "yTr-fDF6237t",
        "outputId": "c1cce1be-f7c8-4c0f-c670-5e01fea1d4e2"
      },
      "execution_count": null,
      "outputs": [
        {
          "output_type": "stream",
          "name": "stderr",
          "text": [
            "[nltk_data] Downloading package punkt to /root/nltk_data...\n",
            "[nltk_data]   Unzipping tokenizers/punkt.zip.\n",
            "[nltk_data] Downloading package stopwords to /root/nltk_data...\n",
            "[nltk_data]   Unzipping corpora/stopwords.zip.\n",
            "[nltk_data] Downloading package wordnet to /root/nltk_data...\n"
          ]
        },
        {
          "output_type": "execute_result",
          "data": {
            "text/plain": [
              "True"
            ]
          },
          "metadata": {},
          "execution_count": 2
        }
      ]
    },
    {
      "cell_type": "code",
      "source": [
        "# Membaca data dari Excel\n",
        "buku = pd.read_excel('dataset_summary_book.xlsx')  # Pastikan nama file dan path sudah benar"
      ],
      "metadata": {
        "id": "Qol-MPKA4IPC"
      },
      "execution_count": null,
      "outputs": []
    },
    {
      "cell_type": "code",
      "source": [
        "print(buku.columns)"
      ],
      "metadata": {
        "colab": {
          "base_uri": "https://localhost:8080/"
        },
        "id": "-jWAyQamWYy8",
        "outputId": "27cb7be8-b5f4-4e57-c924-27a6f187fb60"
      },
      "execution_count": null,
      "outputs": [
        {
          "output_type": "stream",
          "name": "stdout",
          "text": [
            "Index(['wikipedia ID', 'freebase ID', 'title', 'book author',\n",
            "       'publication date', 'genres', 'summary'],\n",
            "      dtype='object')\n"
          ]
        }
      ]
    },
    {
      "cell_type": "code",
      "source": [
        "print(buku.head())"
      ],
      "metadata": {
        "colab": {
          "base_uri": "https://localhost:8080/"
        },
        "collapsed": true,
        "id": "siVoFhZWDG60",
        "outputId": "673691b3-3476-41cc-ab5e-c525722f10af"
      },
      "execution_count": null,
      "outputs": [
        {
          "output_type": "stream",
          "name": "stdout",
          "text": [
            "   wikipedia ID freebase ID                                      title  \\\n",
            "0           620     /m/0hhy                                Animal Farm   \n",
            "1           843     /m/0k36                         A Clockwork Orange   \n",
            "2           986     /m/0ldx                                 The Plague   \n",
            "3          1756     /m/0sww  An Enquiry Concerning Human Understanding   \n",
            "4          2080     /m/0wkt                       A Fire Upon the Deep   \n",
            "\n",
            "       book author     publication date  \\\n",
            "0    George Orwell  1945-08-17 00:00:00   \n",
            "1  Anthony Burgess                 1962   \n",
            "2     Albert Camus                 1947   \n",
            "3       David Hume                  NaN   \n",
            "4     Vernor Vinge                  NaN   \n",
            "\n",
            "                                              genres  \\\n",
            "0  Roman, Satire, Children's literature, Speculat...   \n",
            "1  Science Fiction, Novella, Speculative fiction,...   \n",
            "2  Existentialism, Fiction, Absurdist fiction, Novel   \n",
            "3                                                NaN   \n",
            "4  Hard science fiction, Science Fiction, Specula...   \n",
            "\n",
            "                                             summary  \n",
            "0  Old Major, the old boar on the Manor Farm, cal...  \n",
            "1  Alex, a teenager living in near-future England...  \n",
            "2  The text of The Plague is divided into five pa...  \n",
            "3  The argument of the Enquiry proceeds by a seri...  \n",
            "4  The novel posits that space around the Milky W...  \n"
          ]
        }
      ]
    },
    {
      "cell_type": "code",
      "source": [
        "# Membersihkan teks\n",
        "def clean_text(text):\n",
        "    if not isinstance(text, str):\n",
        "        return \"\"\n",
        "    text = text.lower()  # Mengubah menjadi huruf kecil\n",
        "    text = re.sub(r'\\d+', '', text)  # Menghapus angka\n",
        "    text = re.sub(r'[^\\w\\s]', '', text)  # Menghapus tanda baca\n",
        "    text = text.strip()  # Menghapus spasi berlebih\n",
        "    return text\n",
        "\n",
        "# Menghapus stopwords dan lemmatization\n",
        "stop_words = set(stopwords.words('english'))\n",
        "lemmatizer = WordNetLemmatizer()\n",
        "\n",
        "def preprocess_text(text):\n",
        "    text = clean_text(text)\n",
        "    words = word_tokenize(text)\n",
        "    words = [lemmatizer.lemmatize(word) for word in words if word not in stop_words]\n",
        "    return words\n",
        "\n",
        "buku['cleaned_summary'] = buku['summary'].apply(preprocess_text)\n",
        "\n",
        "# Menampilkan hasil untuk memastikan tidak ada error\n",
        "print(buku.head())"
      ],
      "metadata": {
        "colab": {
          "base_uri": "https://localhost:8080/"
        },
        "collapsed": true,
        "id": "_lD3XHpbTFkT",
        "outputId": "ab60628a-af2d-43b0-e20a-9f0fe952dd4d"
      },
      "execution_count": null,
      "outputs": [
        {
          "output_type": "stream",
          "name": "stdout",
          "text": [
            "   wikipedia ID freebase ID                                      title  \\\n",
            "0           620     /m/0hhy                                Animal Farm   \n",
            "1           843     /m/0k36                         A Clockwork Orange   \n",
            "2           986     /m/0ldx                                 The Plague   \n",
            "3          1756     /m/0sww  An Enquiry Concerning Human Understanding   \n",
            "4          2080     /m/0wkt                       A Fire Upon the Deep   \n",
            "\n",
            "       book author     publication date  \\\n",
            "0    George Orwell  1945-08-17 00:00:00   \n",
            "1  Anthony Burgess                 1962   \n",
            "2     Albert Camus                 1947   \n",
            "3       David Hume                  NaN   \n",
            "4     Vernor Vinge                  NaN   \n",
            "\n",
            "                                              genres  \\\n",
            "0  Roman, Satire, Children's literature, Speculat...   \n",
            "1  Science Fiction, Novella, Speculative fiction,...   \n",
            "2  Existentialism, Fiction, Absurdist fiction, Novel   \n",
            "3                                                NaN   \n",
            "4  Hard science fiction, Science Fiction, Specula...   \n",
            "\n",
            "                                             summary  \\\n",
            "0  Old Major, the old boar on the Manor Farm, cal...   \n",
            "1  Alex, a teenager living in near-future England...   \n",
            "2  The text of The Plague is divided into five pa...   \n",
            "3  The argument of the Enquiry proceeds by a seri...   \n",
            "4  The novel posits that space around the Milky W...   \n",
            "\n",
            "                                     cleaned_summary  \n",
            "0  [old, major, old, boar, manor, farm, call, ani...  \n",
            "1  [alex, teenager, living, nearfuture, england, ...  \n",
            "2  [text, plague, divided, five, part, town, oran...  \n",
            "3  [argument, enquiry, proceeds, series, incremen...  \n",
            "4  [novel, posit, space, around, milky, way, divi...  \n"
          ]
        }
      ]
    },
    {
      "cell_type": "code",
      "source": [
        "# Menggunakan kolom 'cleaned_summary' untuk melatih model Word2Vec\n",
        "sentences = buku['cleaned_summary'].tolist()\n",
        "model = Word2Vec(sentences, vector_size=100, window=5, min_count=1, workers=4)\n",
        "\n",
        "# Menyimpan model untuk penggunaan selanjutnya (opsional)\n",
        "model.save(\"word2vec_buku.model\")"
      ],
      "metadata": {
        "id": "inV0TPbFTe3X"
      },
      "execution_count": null,
      "outputs": []
    },
    {
      "cell_type": "code",
      "source": [
        "def get_book_recommendations(summary, top_n=5):\n",
        "    # Preprocessing summary input\n",
        "    cleaned_summary = preprocess_text(summary)\n",
        "\n",
        "    # Mendapatkan vektor rata-rata dari kata-kata dalam sinopsis\n",
        "    if cleaned_summary:\n",
        "        vector = np.mean([model.wv[word] for word in cleaned_summary if word in model.wv], axis=0)\n",
        "    else:\n",
        "        vector = np.zeros(model.vector_size)\n",
        "\n",
        "    # Menghitung kemiripan kosinus antara sinopsis input dan sinopsis dalam dataset\n",
        "    similarities = []\n",
        "    for idx, row in buku.iterrows():\n",
        "        cleaned_summary = row['cleaned_summary']\n",
        "        if not cleaned_summary:  # Mengatasi kasus cleaned_summary kosong\n",
        "            continue\n",
        "\n",
        "        book_vector = np.mean([model.wv[word] for word in cleaned_summary if word in model.wv], axis=0)\n",
        "        similarity = cosine_similarity([vector], [book_vector])\n",
        "        similarities.append((row['title'], similarity[0][0]))\n",
        "\n",
        "    # Mengurutkan buku berdasarkan kemiripan dan mengambil top_n buku teratas\n",
        "    similarities = sorted(similarities, key=lambda x: x[1], reverse=True)\n",
        "    return similarities[:top_n]"
      ],
      "metadata": {
        "id": "-FhR6CSyTnDr"
      },
      "execution_count": null,
      "outputs": []
    },
    {
      "cell_type": "code",
      "source": [
        "# Membuat kolom input untuk sinopsis\n",
        "summary_input = widgets.Textarea(\n",
        "    value='',\n",
        "    placeholder='Masukkan sinopsis buku di sini...',\n",
        "    description='Summary:',\n",
        "    disabled=False,\n",
        "    layout=widgets.Layout(width='50%', height='100px')\n",
        ")\n",
        "\n",
        "# Membuat tombol untuk mendapatkan rekomendasi\n",
        "button = widgets.Button(description=\"Get Recommendations\")\n",
        "\n",
        "# Fungsi untuk menampilkan rekomendasi\n",
        "def on_button_click(b):\n",
        "    summary = summary_input.value\n",
        "    recommendations = get_book_recommendations(summary)\n",
        "    for title, similarity in recommendations:\n",
        "        print(f\"Title: {title}, Similarity: {similarity}\")\n",
        "\n",
        "# Menambahkan fungsi ke tombol\n",
        "button.on_click(on_button_click)\n",
        "\n",
        "# Menampilkan kolom input dan tombol\n",
        "display(summary_input, button)\n"
      ],
      "metadata": {
        "colab": {
          "base_uri": "https://localhost:8080/",
          "height": 240,
          "referenced_widgets": [
            "ddea66c3cbbe44a899516d360e904d90",
            "44528d12ea864ec6ad4ac66cc06dc682",
            "0a078f85997944ffa239b5f107b75099",
            "099732fbbca54d998a3f7529d32dc97d",
            "6425f42abe6249259bd8e96c467094e1",
            "20c81922467f439b8718a7156de867b6"
          ]
        },
        "id": "3LKyKsl5VnuO",
        "outputId": "3e27b7af-91ce-4a80-e71a-ee0b0c93704a"
      },
      "execution_count": null,
      "outputs": [
        {
          "output_type": "display_data",
          "data": {
            "text/plain": [
              "Textarea(value='', description='Summary:', layout=Layout(height='100px', width='50%'), placeholder='Masukkan s…"
            ],
            "application/vnd.jupyter.widget-view+json": {
              "version_major": 2,
              "version_minor": 0,
              "model_id": "ddea66c3cbbe44a899516d360e904d90"
            }
          },
          "metadata": {}
        },
        {
          "output_type": "display_data",
          "data": {
            "text/plain": [
              "Button(description='Get Recommendations', style=ButtonStyle())"
            ],
            "application/vnd.jupyter.widget-view+json": {
              "version_major": 2,
              "version_minor": 0,
              "model_id": "099732fbbca54d998a3f7529d32dc97d"
            }
          },
          "metadata": {}
        },
        {
          "output_type": "stream",
          "name": "stdout",
          "text": [
            "Title: On War, Similarity: 0.9998793005943298\n",
            "Title: Death of a Hero, Similarity: 0.9998303651809692\n",
            "Title: All Quiet on the Western Front, Similarity: 0.9998170137405396\n",
            "Title: The Myth of Sisyphus, Similarity: 0.9998139142990112\n",
            "Title: The Eye of the World, Similarity: 0.9998115301132202\n"
          ]
        }
      ]
    }
  ]
}